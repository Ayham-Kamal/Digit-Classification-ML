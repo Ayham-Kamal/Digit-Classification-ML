{
 "cells": [
  {
   "cell_type": "code",
   "execution_count": 1,
   "id": "2430525f",
   "metadata": {},
   "outputs": [],
   "source": [
    "import pandas as pd\n",
    "import numpy as np\n",
    "\n",
    "# load the data from the csv file\n",
    "df_digits = pd.read_csv('mnist.csv')\n",
    "\n",
    "X = df_digits[df_digits.columns[:-1]].to_numpy()\n",
    "y = df_digits[df_digits.columns[-1]].to_numpy()\n",
    "\n",
    "n = 60000\n",
    "#Use first 60,000 images as the training set, and the last 10,000 images as the test set.\n",
    "X_train, X_test = X[:n], X[n:] \n",
    "y_train, y_test = y[:n], y[n:]"
   ]
  },
  {
   "cell_type": "code",
   "execution_count": 2,
   "id": "45a989b3",
   "metadata": {},
   "outputs": [
    {
     "name": "stdout",
     "output_type": "stream",
     "text": [
      "SVM Accuracy Score on the training set:\n",
      "0.9779666666666665\n"
     ]
    }
   ],
   "source": [
    "#Support Vector Classifier\n",
    "from sklearn.svm import SVC\n",
    "from sklearn.metrics import accuracy_score\n",
    "from sklearn.model_selection import cross_val_score\n",
    "\n",
    "svm_model = SVC(kernel = 'rbf', gamma = 'scale', degree = 4)\n",
    "#kernel:Specifies the kernel type to be used in the algorithm.\n",
    "#gamma: Kernel coefficient for ‘rbf’.\n",
    "#degree: 4: Degree of the polynomial kernel function.\n",
    "\n",
    "# The 10-fold cross-validation accuracies on the training set, and take avg.\n",
    "svm_score = cross_val_score(svm_model, X_train, y_train, cv=10, scoring=\"accuracy\").mean()\n",
    "\n",
    "print('SVM Accuracy Score on the training set:')\n",
    "print (svm_score)"
   ]
  },
  {
   "cell_type": "code",
   "execution_count": 5,
   "id": "a39cfb69",
   "metadata": {},
   "outputs": [
    {
     "name": "stdout",
     "output_type": "stream",
     "text": [
      "SVM Accuracy Score on the test set:\n",
      "0.9792\n"
     ]
    }
   ],
   "source": [
    "from sklearn.svm import SVC\n",
    "from sklearn.metrics import accuracy_score\n",
    "\n",
    "# Train the model on the training set.\n",
    "svm_model.fit(X_train, y_train)\n",
    "\n",
    "#Precit using the test set.\n",
    "svm_y_pred = svm_model.predict(X_test)\n",
    "\n",
    "#The accuracies on the test set.\n",
    "svm_score = accuracy_score(y_test, svm_y_pred)\n",
    "\n",
    "print('SVM Accuracy Score on the test set:')\n",
    "print (svm_score)"
   ]
  },
  {
   "cell_type": "code",
   "execution_count": 3,
   "id": "e7d57fca",
   "metadata": {},
   "outputs": [
    {
     "name": "stdout",
     "output_type": "stream",
     "text": [
      "Best parameters for KNN: {'n_neighbors': 4, 'weights': 'distance'}\n",
      "Best cross-validation score: 0.9728666666666668\n"
     ]
    }
   ],
   "source": [
    "#KNeighborsClassifier: Classifier implementing the k-nearest neighbors vote\n",
    "from sklearn.neighbors import KNeighborsClassifier\n",
    "from scipy.stats import randint\n",
    "from sklearn.model_selection import RandomizedSearchCV\n",
    "\n",
    "knn_params = {\n",
    "    'n_neighbors': randint(1, 15),    #Number of neighbors to use\n",
    "    'weights':['uniform', 'distance'] #Weight function used in prediction:\n",
    "                                      #‘uniform’ : uniform weights. All points in each neighborhood are weighted equally.\n",
    "                                      #‘distance’ : weight points by their distance. in this case,\n",
    "                                      #closer neighbors of a query point will have a greater influence than neighbors which\n",
    "                                      #are further away.\n",
    "}\n",
    "\n",
    "#Apply random search to find best parameters.\n",
    "knn_random_search = RandomizedSearchCV(\n",
    "    KNeighborsClassifier(), knn_params, n_iter=10, cv=10, scoring='accuracy', random_state=42\n",
    ")\n",
    "knn_random_search.fit(X_train, y_train)\n",
    "\n",
    "# The best parameters found for the knn model:\n",
    "print(\"Best parameters for KNN:\", knn_random_search.best_params_)\n",
    "# The 10-fold cross-validation accuracies on the training set\n",
    "print(\"Best cross-validation score:\", knn_random_search.best_score_)"
   ]
  },
  {
   "cell_type": "code",
   "execution_count": 8,
   "id": "58ac828b",
   "metadata": {},
   "outputs": [
    {
     "name": "stdout",
     "output_type": "stream",
     "text": [
      "KNeighbours Accuracy Score on the test set:\n",
      "0.9714\n"
     ]
    }
   ],
   "source": [
    "from sklearn.metrics import accuracy_score\n",
    "\n",
    "knn_model = KNeighborsClassifier(n_neighbors=4, weights='distance')\n",
    "\n",
    "# Train the model on the training set\n",
    "knn_model.fit(X_train, y_train)\n",
    "#Precit using the test set.\n",
    "knn_y_pred = knn_model.predict(X_test)\n",
    "#The accuracies on the test set\n",
    "knn_score = accuracy_score(y_test, knn_y_pred)\n",
    "\n",
    "print('KNeighbours Accuracy Score on the test set:')\n",
    "print (knn_score)"
   ]
  },
  {
   "cell_type": "code",
   "execution_count": 4,
   "id": "63a79f9f",
   "metadata": {},
   "outputs": [],
   "source": [
    "# load the class data\n",
    "import numpy as np\n",
    "import pandas as pd\n",
    "\n",
    "df_digits_class = pd.read_csv('class_digits')\n",
    "\n",
    "# Convert the features and labels to NumPy arrays\n",
    "X_class = df_digits_class[df_digits_class.columns[:-1]].to_numpy()\n",
    "y_class = df_digits_class[df_digits_class.columns[-1]].to_numpy()"
   ]
  },
  {
   "cell_type": "code",
   "execution_count": 13,
   "id": "447ae0e6",
   "metadata": {},
   "outputs": [
    {
     "name": "stdout",
     "output_type": "stream",
     "text": [
      "SVM Accuracy Score on the class set:\n",
      "0.3904761904761905\n",
      "KNN Accuracy Score on the class set:\n",
      "0.35714285714285715\n"
     ]
    }
   ],
   "source": [
    "# Train both models on the whole data (on all 70000 images)\n",
    "svm_model.fit(X, y)\n",
    "knn_model.fit(X, y)\n",
    "\n",
    "#Predict using the class data set.\n",
    "svm_y_pred_class = svm_model.predict(X_class)\n",
    "knn_y_pred_class = knn_model.predict(X_class)\n",
    "\n",
    "#The accuracies on the class set\n",
    "svm_score_class = accuracy_score(y_class, svm_y_pred_class)\n",
    "knn_score_class = accuracy_score(y_class, knn_y_pred_class)\n",
    "\n",
    "print('SVM Accuracy Score on the class set:')\n",
    "print (svm_score_class)\n",
    "\n",
    "print('KNN Accuracy Score on the class set:')\n",
    "print (knn_score_class)"
   ]
  }
 ],
 "metadata": {
  "kernelspec": {
   "display_name": "Python 3 (ipykernel)",
   "language": "python",
   "name": "python3"
  },
  "language_info": {
   "codemirror_mode": {
    "name": "ipython",
    "version": 3
   },
   "file_extension": ".py",
   "mimetype": "text/x-python",
   "name": "python",
   "nbconvert_exporter": "python",
   "pygments_lexer": "ipython3",
   "version": "3.11.4"
  }
 },
 "nbformat": 4,
 "nbformat_minor": 5
}
